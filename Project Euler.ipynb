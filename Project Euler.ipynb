{
 "cells": [
  {
   "cell_type": "markdown",
   "metadata": {},
   "source": [
    "# Project Euler\n",
    "\n",
    "## Welcome to my Project Euler walkthrough. This is where I attempt to walk through math problems listed on https://projecteuler.net/problems\n",
    "\n",
    "###  I do my best to try to at least make note of where I grab helper code from stackoverflow."
   ]
  },
  {
   "cell_type": "code",
   "execution_count": 1,
   "metadata": {},
   "outputs": [],
   "source": [
    "# MAKE SURE YOU RUN THIS CELL\n",
    "from IPython.display import Markdown\n",
    "import time"
   ]
  },
  {
   "cell_type": "markdown",
   "metadata": {},
   "source": [
    "# Table of Contents\n",
    "\n",
    "<a href=#P1>Problem 1</a>\n",
    "\n",
    "<a href=#P50>Problem 50</a>\n"
   ]
  },
  {
   "cell_type": "markdown",
   "metadata": {},
   "source": [
    "# Problem 1\n",
    "### If we list all the natural numbers below 10 that are multiples of 3 or 5, we get 3, 5, 6 and 9. The sum of these multiples is 23.\n",
    "\n",
    "### Find the sum of all the multiples of 3 or 5 below 1000."
   ]
  },
  {
   "cell_type": "markdown",
   "metadata": {},
   "source": [
    "My code here seems clean enough to not need an explanation"
   ]
  },
  {
   "cell_type": "code",
   "execution_count": null,
   "metadata": {
    "collapsed": true
   },
   "outputs": [],
   "source": [
    "import numpy as np\n",
    "nums = []\n",
    "# This can surely be written in one line, but I expand it for clarity's sake.\n",
    "for i in range(0, 1000):\n",
    "    if i % 3 == 0 or i % 5 == 0:\n",
    "        nums.append(i)\n",
    "solution1 = np.sum(nums)"
   ]
  },
  {
   "cell_type": "code",
   "execution_count": null,
   "metadata": {
    "collapsed": true
   },
   "outputs": [],
   "source": [
    "Markdown(\"# Answer is \" + str(solution1))"
   ]
  },
  {
   "cell_type": "markdown",
   "metadata": {},
   "source": [
    "<a name='P50'></a>\n",
    "# Problem 50\n",
    "### The prime 41, can be written as the sum of six consecutive primes:\n",
    "\n",
    "### 41 = 2 + 3 + 5 + 7 + 11 + 13\n",
    "### This is the longest sum of consecutive primes that adds to a prime below one-hundred.\n",
    "\n",
    "### The longest sum of consecutive primes below one-thousand that adds to a prime, contains 21 terms, and is equal to 953.\n",
    "\n",
    "### Which prime, below one-million, can be written as the sum of the most consecutive primes?"
   ]
  },
  {
   "cell_type": "markdown",
   "metadata": {},
   "source": [
    "The first step here should be gathering a list of all prime numbers."
   ]
  },
  {
   "cell_type": "code",
   "execution_count": 5,
   "metadata": {},
   "outputs": [
    {
     "name": "stdout",
     "output_type": "stream",
     "text": [
      "[2, 3, 5, 7, 11, 13, 17, 19, 23, 29, 31, 37, 41, 43, 47, 53, 59, 61, 67, 71, 73, 79, 83, 89, 97]\n"
     ]
    }
   ],
   "source": [
    "def getPrimes(n):\n",
    "    primes = []\n",
    "    for num in range(2, n):\n",
    "        prime = True\n",
    "        for i in range(2, num):\n",
    "            if num % i == 0:\n",
    "                prime = False\n",
    "        if prime:\n",
    "            primes.append(num)\n",
    "    return primes\n",
    "\n",
    "primes = getPrimes(100)\n",
    "print(primes)"
   ]
  },
  {
   "cell_type": "markdown",
   "metadata": {},
   "source": [
    "Next, we need to loop through all possible scenarios in which these primes can be written as the sum of other consecutive primes. \n",
    "\n",
    "While the function above works, it has time complexity of O(n<sup>c</sup>), which sucks for large numbers. To speed things up, I'm going to import a sieve from helpers.py."
   ]
  },
  {
   "cell_type": "code",
   "execution_count": 6,
   "metadata": {},
   "outputs": [],
   "source": [
    "from helpers import prime_sieve\n",
    "primes = prime_sieve(1000000)\n",
    "\n"
   ]
  },
  {
   "cell_type": "code",
   "execution_count": null,
   "metadata": {
    "collapsed": true
   },
   "outputs": [],
   "source": []
  }
 ],
 "metadata": {
  "kernelspec": {
   "display_name": "Python 3",
   "language": "python",
   "name": "python3"
  },
  "language_info": {
   "codemirror_mode": {
    "name": "ipython",
    "version": 3
   },
   "file_extension": ".py",
   "mimetype": "text/x-python",
   "name": "python",
   "nbconvert_exporter": "python",
   "pygments_lexer": "ipython3",
   "version": "3.6.1"
  }
 },
 "nbformat": 4,
 "nbformat_minor": 2
}
